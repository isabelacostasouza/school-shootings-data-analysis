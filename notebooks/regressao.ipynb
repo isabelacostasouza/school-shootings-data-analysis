{
  "nbformat": 4,
  "nbformat_minor": 0,
  "metadata": {
    "colab": {
      "name": "regressao.ipynb",
      "provenance": []
    },
    "kernelspec": {
      "name": "python3",
      "display_name": "Python 3"
    },
    "language_info": {
      "name": "python"
    }
  },
  "cells": [
    {
      "cell_type": "code",
      "execution_count": null,
      "metadata": {
        "id": "fZxdO-gXmVsM"
      },
      "outputs": [],
      "source": [
        "import matplotlib\n",
        "from matplotlib import pyplot as plt\n",
        "import pandas as pd\n",
        "import numpy as np\n",
        "\n",
        "import seaborn as sns\n",
        "\n",
        "from sklearn import linear_model\n",
        "from sklearn.model_selection import train_test_split\n",
        "from sklearn.metrics import mean_squared_error, r2_score"
      ]
    },
    {
      "cell_type": "code",
      "source": [
        "incidents_timing = pd.read_csv('state_date_level.csv')\n",
        "injury_data = pd.read_csv('injury_data.csv')\n",
        "us_population = pd.read_csv('us_population.csv')\n",
        "gun_laws = pd.read_csv('gun_laws.csv')\n",
        "incidents_details = pd.read_csv('incidents_details.csv')\n",
        "shooter_data = pd.read_csv('shooter_data.csv')"
      ],
      "metadata": {
        "id": "7yauIDpjoWZ2"
      },
      "execution_count": null,
      "outputs": []
    },
    {
      "cell_type": "code",
      "source": [
        "incidents_by_state = []\n",
        "related_laws_by_state = []\n",
        "current_gun_laws = gun_laws.loc[gun_laws['year'] == 2019]\n",
        "yearly_incidents = incidents_timing.loc[incidents_timing['Date'].str.contains(\"2019-\")]\n",
        "\n",
        "school_related_laws = ['college', 'collegeconcealed','elementary','opencarryh','opencarryl','opencarrypermith','opencarrypermitl','cap14', 'cap16', 'capaccess', 'capuses', 'dvro']\n",
        "\n",
        "states = list(set(incidents_timing['State']))\n",
        "states.remove(\"High\")\n",
        "\n",
        "for state in states:\n",
        "  laws_counter = 0\n",
        "  state_gun_laws = current_gun_laws.loc[current_gun_laws['state'] == state]\n",
        "  incidents_by_state.append(len(yearly_incidents.loc[incidents_timing['State'].str.contains(state)]))\n",
        "  for law in school_related_laws:\n",
        "    if(state_gun_laws[law].any()): laws_counter+= 1\n",
        "  related_laws_by_state.append(laws_counter)\n",
        "\n",
        "incidents_data = pd.DataFrame(\n",
        "  {\n",
        "    \"state\": states,\n",
        "    \"incidents\": incidents_by_state,\n",
        "    \"relates_laws\": related_laws_by_state\n",
        "  })"
      ],
      "metadata": {
        "id": "HYXXry9Uos0P"
      },
      "execution_count": null,
      "outputs": []
    },
    {
      "cell_type": "code",
      "source": [
        "X = incidents_data['relates_laws'].values.reshape(-1,1)\n",
        "y = incidents_data['incidents'].values.reshape(-1,1)\n",
        "\n",
        "X_train, X_test, y_train, y_test = train_test_split(X, y, test_size=0.2)\n",
        "\n",
        "lin_regr = linear_model.LinearRegression()\n",
        "lin_regr.fit(X_train, y_train)\n",
        "\n",
        "y_pred = lin_regr.predict(X_test)\n",
        "\n",
        "print(f'Coeficiente: {lin_regr.coef_[0][0]:.2f}')\n",
        "print(f'Intercepcao: {lin_regr.intercept_[0]:.2f}')\n",
        "print(f'Erro quadratico medio: {mean_squared_error(y_test, y_pred):.2f}' )\n",
        "print(f'R2: {r2_score(y_test, y_pred):.2f}')"
      ],
      "metadata": {
        "colab": {
          "base_uri": "https://localhost:8080/"
        },
        "id": "1kNJFDY2oZ_o",
        "outputId": "b9f31f67-0632-42b3-ab99-e5d68be5eed5"
      },
      "execution_count": null,
      "outputs": [
        {
          "output_type": "stream",
          "name": "stdout",
          "text": [
            "Coefficient: 0.36\n",
            "Intercept: 1.01\n",
            "Mean squared error: 11.20\n",
            "R2: -0.19\n"
          ]
        }
      ]
    },
    {
      "cell_type": "code",
      "source": [
        "sns.regplot(x='relates_laws', y='incidents', data=incidents_data)\n",
        "plt.title('Regressão linear, incidentes x leis relacionadas a armas em escolas')\n",
        "plt.show()"
      ],
      "metadata": {
        "colab": {
          "base_uri": "https://localhost:8080/",
          "height": 296
        },
        "id": "wd0vlpKTrgYb",
        "outputId": "b4bf3f6a-3f4f-4a36-ef84-4efd25fb03ef"
      },
      "execution_count": null,
      "outputs": [
        {
          "output_type": "display_data",
          "data": {
            "image/png": "[encoded data removed]",
            "text/plain": [
              "<Figure size 432x288 with 1 Axes>"
            ]
          },
          "metadata": {
            "needs_background": "light"
          }
        }
      ]
    }
  ]
}